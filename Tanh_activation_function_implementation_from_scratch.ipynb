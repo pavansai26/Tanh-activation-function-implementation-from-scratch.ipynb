{
  "nbformat": 4,
  "nbformat_minor": 0,
  "metadata": {
    "colab": {
      "name": "Tanh activation function implementation from scratch.ipynb",
      "provenance": [],
      "private_outputs": true,
      "authorship_tag": "ABX9TyMsSJ4rnsYVPjApeuETvNHy",
      "include_colab_link": true
    },
    "kernelspec": {
      "name": "python3",
      "display_name": "Python 3"
    }
  },
  "cells": [
    {
      "cell_type": "markdown",
      "metadata": {
        "id": "view-in-github",
        "colab_type": "text"
      },
      "source": [
        "<a href=\"https://colab.research.google.com/github/pavansai26/Tanh-activation-function-implementation-from-scratch.ipynb/blob/master/Tanh_activation_function_implementation_from_scratch.ipynb\" target=\"_parent\"><img src=\"https://colab.research.google.com/assets/colab-badge.svg\" alt=\"Open In Colab\"/></a>"
      ]
    },
    {
      "cell_type": "code",
      "metadata": {
        "id": "Ns7Ig8UGkhBE",
        "colab_type": "code",
        "colab": {}
      },
      "source": [
        ""
      ],
      "execution_count": null,
      "outputs": []
    },
    {
      "cell_type": "markdown",
      "metadata": {
        "id": "lyLKVZc_lnwR",
        "colab_type": "text"
      },
      "source": [
        "# tanh activation function"
      ]
    },
    {
      "cell_type": "markdown",
      "metadata": {
        "id": "Tc3iWlFjl9Dg",
        "colab_type": "text"
      },
      "source": [
        "formula"
      ]
    },
    {
      "cell_type": "markdown",
      "metadata": {
        "id": "uRghEshXmAsO",
        "colab_type": "text"
      },
      "source": [
        " (1-exp(-2x))/(1+exp(-2x))"
      ]
    },
    {
      "cell_type": "code",
      "metadata": {
        "id": "C1WqusurltEL",
        "colab_type": "code",
        "colab": {}
      },
      "source": [
        "import numpy as np"
      ],
      "execution_count": null,
      "outputs": []
    },
    {
      "cell_type": "code",
      "metadata": {
        "id": "KMQwMkXfmmG9",
        "colab_type": "code",
        "colab": {}
      },
      "source": [
        "def tanh(x):\n",
        "  return np.tanh(x)"
      ],
      "execution_count": null,
      "outputs": []
    },
    {
      "cell_type": "code",
      "metadata": {
        "id": "YJEuAeoOnaq7",
        "colab_type": "code",
        "colab": {}
      },
      "source": [
        "# plot inputs and outputs\n",
        "from matplotlib import pyplot\n",
        " \n",
        "# rectified linear function\n",
        "\n",
        "def tanh(x):\n",
        "  return np.tanh(x)\n",
        "\n",
        "\n",
        " \n",
        "# define a series of inputs\n",
        "series_in = [x for x in range(-10, 11)]\n",
        "# calculate outputs for our inputs\n",
        "series_out = [tanh(x) for x in series_in]\n",
        "# line plot of raw inputs to rectified outputs\n",
        "pyplot.plot(series_in, series_out)\n",
        "pyplot.show()"
      ],
      "execution_count": null,
      "outputs": []
    },
    {
      "cell_type": "code",
      "metadata": {
        "id": "T-TkPH4rnouK",
        "colab_type": "code",
        "colab": {}
      },
      "source": [
        ""
      ],
      "execution_count": null,
      "outputs": []
    }
  ]
}